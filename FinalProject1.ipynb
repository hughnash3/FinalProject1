{
 "cells": [
  {
   "cell_type": "markdown",
   "id": "5b5e23ca-fa92-4fd0-ba45-66f8d2c5c6e6",
   "metadata": {},
   "source": [
    "My Jupyter Notebook on IBM Watson Studio"
   ]
  },
  {
   "cell_type": "markdown",
   "id": "2207f144-0671-4a38-b54e-701ceb38682e",
   "metadata": {},
   "source": [
    "**Hugh Nash**\\\n",
    "Data Scientist"
   ]
  },
  {
   "cell_type": "markdown",
   "id": "a730c2b1-65e5-4e51-8b26-4e5d66f15421",
   "metadata": {},
   "source": [
    "*I am interested in becoming a data scientist to solve problems that can only be understood through careful calculation and story-telling. I would like to help discover underlying issues in real problems that we face everyday in order to create solutions.*"
   ]
  },
  {
   "cell_type": "markdown",
   "id": "e8ef104f-1c88-4424-a70a-22ebf9cf9f3b",
   "metadata": {},
   "source": [
    "### Simple Mathematical Equation using order of operations"
   ]
  },
  {
   "cell_type": "code",
   "execution_count": 5,
   "id": "3c88f087-ecb5-45ef-91e0-fb268c97664c",
   "metadata": {},
   "outputs": [],
   "source": [
    " answer = (10+20)+3*4"
   ]
  },
  {
   "cell_type": "code",
   "execution_count": 7,
   "id": "8c9aee74-6fa6-406a-96b2-626f6d7907cd",
   "metadata": {},
   "outputs": [
    {
     "name": "stdout",
     "output_type": "stream",
     "text": [
      "42\n"
     ]
    }
   ],
   "source": [
    "print(answer)"
   ]
  },
  {
   "cell_type": "markdown",
   "id": "d1a8bd0a-f241-486f-bcca-b61d6a97ae18",
   "metadata": {},
   "source": [
    "- 1\n",
    "- 2\n",
    "- 3\n",
    "- 4\n",
    "***\n",
    "1.this\n",
    "2.is\n",
    "3.a\n",
    "4.numbered\n",
    "5.list\n"
   ]
  },
  {
   "cell_type": "code",
   "execution_count": null,
   "id": "b746e55f-2119-4eb2-9bd2-b07660352e5c",
   "metadata": {},
   "outputs": [],
   "source": []
  }
 ],
 "metadata": {
  "kernelspec": {
   "display_name": "Python",
   "language": "python",
   "name": "conda-env-python-py"
  },
  "language_info": {
   "codemirror_mode": {
    "name": "ipython",
    "version": 3
   },
   "file_extension": ".py",
   "mimetype": "text/x-python",
   "name": "python",
   "nbconvert_exporter": "python",
   "pygments_lexer": "ipython3",
   "version": "3.7.12"
  }
 },
 "nbformat": 4,
 "nbformat_minor": 5
}
